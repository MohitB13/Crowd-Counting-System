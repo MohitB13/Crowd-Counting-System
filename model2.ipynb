{
 "cells": [
  {
   "cell_type": "code",
   "execution_count": 1,
   "metadata": {},
   "outputs": [],
   "source": [
    "from keras.layers.normalization import BatchNormalization\n",
    "from keras.preprocessing.image import load_img,img_to_array\n",
    "from sklearn.metrics import mean_squared_error\n",
    "from keras.initializers import RandomNormal\n",
    "from keras.applications.vgg16 import VGG16\n",
    "from keras.optimizers import Adam\n",
    "from keras.models import Model,Sequential\n",
    "from keras.layers import *\n",
    "from keras import backend as K\n",
    "from keras.models import model_from_json\n",
    "from matplotlib import cm as CM\n",
    "import matplotlib.pyplot as plt\n",
    "import tensorflow as tf\n",
    "from tqdm import tqdm\n",
    "import scipy.io as io\n",
    "from PIL import Image\n",
    "import PIL\n",
    "import h5py\n",
    "import os\n",
    "import glob\n",
    "import cv2\n",
    "import random\n",
    "import math\n",
    "import sys\n",
    "import numpy as np"
   ]
  },
  {
   "cell_type": "code",
   "execution_count": 2,
   "metadata": {},
   "outputs": [
    {
     "name": "stdout",
     "output_type": "stream",
     "text": [
      "C:\\Users\\mohit\\MINI PROJ\\ShanghaiTech\n"
     ]
    }
   ],
   "source": [
    "K.clear_session()\n",
    "root = os.path.join(os.getcwd(),'ShanghaiTech')\n",
    "print(root)"
   ]
  },
  {
   "cell_type": "code",
   "execution_count": 3,
   "metadata": {},
   "outputs": [],
   "source": [
    "part_A_train = os.path.join(root,'part_A/train_data','images')\n",
    "part_A_test = os.path.join(root,'part_A/test_data','images')\n",
    "part_B_train = os.path.join(root,'part_B/train_data','images')\n",
    "part_B_test = os.path.join(root,'part_B/test_data','images')\n",
    "temp = 'test_images'\n",
    "path_sets = [part_A_train]"
   ]
  },
  {
   "cell_type": "code",
   "execution_count": 4,
   "metadata": {},
   "outputs": [
    {
     "name": "stdout",
     "output_type": "stream",
     "text": [
      "Total images :  300\n"
     ]
    }
   ],
   "source": [
    "img_paths = []\n",
    "\n",
    "for path in path_sets:\n",
    "    \n",
    "    for img_path in glob.glob(os.path.join(path, '*.jpg')):\n",
    "        \n",
    "        img_paths.append(str(img_path))\n",
    "        \n",
    "print(\"Total images : \",len(img_paths))"
   ]
  },
  {
   "cell_type": "code",
   "execution_count": 5,
   "metadata": {},
   "outputs": [],
   "source": [
    "def create_img(path):\n",
    "    #Function to load,normalize and return image \n",
    "    im = Image.open(path).convert('RGB')\n",
    "    \n",
    "    im = np.array(im)\n",
    "    \n",
    "    im = im/255.0\n",
    "    \n",
    "    im[:,:,0]=(im[:,:,0]-0.485)/0.229\n",
    "    im[:,:,1]=(im[:,:,1]-0.456)/0.224\n",
    "    im[:,:,2]=(im[:,:,2]-0.406)/0.225\n",
    "\n",
    "    #print(im.shape)\n",
    "    #im = np.expand_dims(im,axis  = 0)\n",
    "    return im\n",
    "\n",
    "def get_input(path):\n",
    "    path = path[0] \n",
    "    img = create_img(path)\n",
    "    return(img)\n",
    "    \n",
    "    \n",
    "    \n",
    "def get_output(path):\n",
    "    #import target\n",
    "    #resize target\n",
    "    \n",
    "    gt_file = h5py.File(path,'r')\n",
    "    \n",
    "    target = np.asarray(gt_file['density'])\n",
    "    \n",
    "    img = cv2.resize(target,(int(target.shape[1]/8),int(target.shape[0]/8)),interpolation = cv2.INTER_CUBIC)*64\n",
    "    \n",
    "    img = np.expand_dims(img,axis  = 2)\n",
    "    \n",
    "    #print(img.shape)\n",
    "    \n",
    "    return img\n",
    "    \n",
    "    \n",
    "    \n",
    "def preprocess_input(image,target):\n",
    "    #crop image\n",
    "    #crop target\n",
    "    #resize target\n",
    "    crop_size = (int(image.shape[0]/2),int(image.shape[1]/2))\n",
    "    \n",
    "    \n",
    "    if random.randint(0,9)<= -1:            \n",
    "            dx = int(random.randint(0,1)*image.shape[0]*1./2)\n",
    "            dy = int(random.randint(0,1)*image.shape[1]*1./2)\n",
    "    else:\n",
    "            dx = int(random.random()*image.shape[0]*1./2)\n",
    "            dy = int(random.random()*image.shape[1]*1./2)\n",
    "\n",
    "    #print(crop_size , dx , dy)\n",
    "    img = image[dx : crop_size[0]+dx , dy:crop_size[1]+dy]\n",
    "    \n",
    "    target_aug = target[dx:crop_size[0]+dx,dy:crop_size[1]+dy]\n",
    "    #print(img.shape)\n",
    "\n",
    "    return(img,target_aug)"
   ]
  },
  {
   "cell_type": "code",
   "execution_count": 6,
   "metadata": {},
   "outputs": [],
   "source": [
    "#Image data generator \n",
    "def image_generator(files, batch_size = 64):\n",
    "    \n",
    "    while True:\n",
    "        \n",
    "        input_path = np.random.choice(a = files, size = batch_size)\n",
    "        \n",
    "        batch_input = []\n",
    "        batch_output = [] \n",
    "          \n",
    "        #for input_path in batch_paths:\n",
    "        \n",
    "        inputt = get_input(input_path )\n",
    "        output = get_output(input_path[0].replace('.jpg','.h5').replace('images','ground_truth') )\n",
    "            \n",
    "       \n",
    "        batch_input += [inputt]\n",
    "        batch_output += [output]\n",
    "    \n",
    "\n",
    "        batch_x = np.array( batch_input )\n",
    "        batch_y = np.array( batch_output )\n",
    "        \n",
    "        yield( batch_x, batch_y )"
   ]
  },
  {
   "cell_type": "code",
   "execution_count": 7,
   "metadata": {},
   "outputs": [],
   "source": [
    "def save_mod(model , str1 , str2):\n",
    "    model.save_weights(str1)\n",
    "    \n",
    "    model_json = model.to_json()\n",
    "    \n",
    "    with open(str2, \"w\") as json_file:\n",
    "        json_file.write(model_json)"
   ]
  },
  {
   "cell_type": "code",
   "execution_count": 8,
   "metadata": {},
   "outputs": [],
   "source": [
    "def init_weights_vgg(model):\n",
    "    #vgg =  VGG16(weights='imagenet', include_top=False)\n",
    "    \n",
    "    json_file = open('VGG_16.json', 'r')\n",
    "    loaded_model_json = json_file.read()\n",
    "    json_file.close()\n",
    "    loaded_model = model_from_json(loaded_model_json)\n",
    "    loaded_model.load_weights(\"VGG_16.h5\")\n",
    "    \n",
    "    vgg = loaded_model\n",
    "    \n",
    "    vgg_weights=[]                         \n",
    "    for layer in vgg.layers:\n",
    "        if('conv' in layer.name):\n",
    "            vgg_weights.append(layer.get_weights())\n",
    "    \n",
    "    \n",
    "    offset=0\n",
    "    i=0\n",
    "    while(i<10):\n",
    "        if('conv' in model.layers[i+offset].name):\n",
    "            model.layers[i+offset].set_weights(vgg_weights[i])\n",
    "            i=i+1\n",
    "            #print('h')\n",
    "            \n",
    "        else:\n",
    "            offset=offset+1\n",
    "\n",
    "    return (model)"
   ]
  },
  {
   "cell_type": "code",
   "execution_count": 9,
   "metadata": {},
   "outputs": [],
   "source": [
    "def euclidean_distance_loss(y_true, y_pred):\n",
    "    # Euclidean distance as a measure of loss (Loss function) \n",
    "    return K.sqrt(K.sum(K.square(y_pred - y_true), axis=-1))"
   ]
  },
  {
   "cell_type": "code",
   "execution_count": 12,
   "metadata": {},
   "outputs": [],
   "source": [
    "# Neural network model : VGG + Conv\n",
    "def CrowdNet():  \n",
    "            #Variable Input Size\n",
    "            rows = None\n",
    "            cols = None\n",
    "            \n",
    "            #Batch Normalisation option\n",
    "            \n",
    "            batch_norm = 0\n",
    "            kernel = (3, 3)\n",
    "            init = RandomNormal(stddev=0.01)\n",
    "            model = Sequential() \n",
    "            \n",
    "            #custom VGG:\n",
    "            \n",
    "            if(batch_norm):\n",
    "                model.add(Conv2D(64, kernel_size = kernel, input_shape = (rows,cols,3),activation = 'relu', padding='same'))\n",
    "                model.add(BatchNormalization())\n",
    "                model.add(Conv2D(64, kernel_size = kernel,activation = 'relu', padding='same'))\n",
    "                model.add(BatchNormalization())\n",
    "                model.add(MaxPooling2D(strides=2))\n",
    "                model.add(Conv2D(128,kernel_size = kernel, activation = 'relu', padding='same'))\n",
    "                model.add(BatchNormalization())\n",
    "                model.add(Conv2D(128,kernel_size = kernel, activation = 'relu', padding='same'))\n",
    "                model.add(BatchNormalization())\n",
    "                model.add(MaxPooling2D(strides=2))\n",
    "                model.add(Conv2D(256,kernel_size = kernel, activation = 'relu', padding='same'))\n",
    "                model.add(BatchNormalization())\n",
    "                model.add(Conv2D(256,kernel_size = kernel, activation = 'relu', padding='same'))\n",
    "                model.add(BatchNormalization())\n",
    "                model.add(Conv2D(256,kernel_size = kernel, activation = 'relu', padding='same'))\n",
    "                model.add(BatchNormalization())\n",
    "                model.add(MaxPooling2D(strides=2))            \n",
    "                model.add(Conv2D(512, kernel_size = kernel,activation = 'relu', padding='same'))\n",
    "                model.add(BatchNormalization())\n",
    "                model.add(Conv2D(512, kernel_size = kernel,activation = 'relu', padding='same'))\n",
    "                model.add(BatchNormalization())\n",
    "                model.add(Conv2D(512, kernel_size = kernel,activation = 'relu', padding='same'))\n",
    "                model.add(BatchNormalization())\n",
    "                \n",
    "            else:\n",
    "                model.add(Conv2D(64, kernel_size = kernel,activation = 'relu', padding='same',input_shape = (rows, cols, 3), kernel_initializer = init))\n",
    "                model.add(Conv2D(64, kernel_size = kernel,activation = 'relu', padding='same', kernel_initializer = init))\n",
    "                model.add(MaxPooling2D(strides=2))\n",
    "                model.add(Conv2D(128,kernel_size = kernel, activation = 'relu', padding='same', kernel_initializer = init))\n",
    "                model.add(Conv2D(128,kernel_size = kernel, activation = 'relu', padding='same', kernel_initializer = init))\n",
    "                model.add(MaxPooling2D(strides=2))\n",
    "                model.add(Conv2D(256,kernel_size = kernel, activation = 'relu', padding='same', kernel_initializer = init))\n",
    "                model.add(Conv2D(256,kernel_size = kernel, activation = 'relu', padding='same', kernel_initializer = init))\n",
    "                model.add(Conv2D(256,kernel_size = kernel, activation = 'relu', padding='same', kernel_initializer = init))\n",
    "                model.add(MaxPooling2D(strides=2))            \n",
    "                model.add(Conv2D(512, kernel_size = kernel,activation = 'relu', padding='same', kernel_initializer = init))\n",
    "                model.add(Conv2D(512, kernel_size = kernel,activation = 'relu', padding='same', kernel_initializer = init))\n",
    "                model.add(Conv2D(512, kernel_size = kernel,activation = 'relu', padding='same', kernel_initializer = init))\n",
    "                \n",
    "                \n",
    "\n",
    "                \n",
    "            #Conv2D\n",
    "            model.add(Conv2D(512, (3, 3), activation='relu', dilation_rate = 2, kernel_initializer = init, padding = 'same'))\n",
    "            model.add(Conv2D(512, (3, 3), activation='relu', dilation_rate = 2, kernel_initializer = init, padding = 'same'))\n",
    "            model.add(Conv2D(512, (3, 3), activation='relu', dilation_rate = 2, kernel_initializer = init, padding = 'same'))\n",
    "            model.add(Conv2D(256, (3, 3), activation='relu', dilation_rate = 2, kernel_initializer = init, padding = 'same'))\n",
    "            model.add(Conv2D(128, (3, 3), activation='relu', dilation_rate = 2, kernel_initializer = init, padding = 'same'))\n",
    "            model.add(Conv2D(64, (3, 3), activation='relu', dilation_rate = 2, kernel_initializer = init, padding = 'same'))\n",
    "            model.add(Conv2D(1, (1, 1), activation='relu', dilation_rate = 1, kernel_initializer = init, padding = 'same'))\n",
    "        \n",
    "            #sgd = SGD(lr = 1e-7, decay = (5*1e-4), momentum = 0.95)\n",
    "            opt = Adam(learning_rate=0.01)\n",
    "            model.compile(optimizer=opt, loss=euclidean_distance_loss, metrics=['mse'])\n",
    "            \n",
    "            \n",
    "            model = init_weights_vgg(model)\n",
    "            \n",
    "            return model"
   ]
  },
  {
   "cell_type": "code",
   "execution_count": 13,
   "metadata": {},
   "outputs": [],
   "source": [
    "model = CrowdNet()"
   ]
  },
  {
   "cell_type": "code",
   "execution_count": 14,
   "metadata": {},
   "outputs": [
    {
     "name": "stdout",
     "output_type": "stream",
     "text": [
      "Model: \"sequential_1\"\n",
      "_________________________________________________________________\n",
      "Layer (type)                 Output Shape              Param #   \n",
      "=================================================================\n",
      "conv2d_17 (Conv2D)           (None, None, None, 64)    1792      \n",
      "_________________________________________________________________\n",
      "conv2d_18 (Conv2D)           (None, None, None, 64)    36928     \n",
      "_________________________________________________________________\n",
      "max_pooling2d_3 (MaxPooling2 (None, None, None, 64)    0         \n",
      "_________________________________________________________________\n",
      "conv2d_19 (Conv2D)           (None, None, None, 128)   73856     \n",
      "_________________________________________________________________\n",
      "conv2d_20 (Conv2D)           (None, None, None, 128)   147584    \n",
      "_________________________________________________________________\n",
      "max_pooling2d_4 (MaxPooling2 (None, None, None, 128)   0         \n",
      "_________________________________________________________________\n",
      "conv2d_21 (Conv2D)           (None, None, None, 256)   295168    \n",
      "_________________________________________________________________\n",
      "conv2d_22 (Conv2D)           (None, None, None, 256)   590080    \n",
      "_________________________________________________________________\n",
      "conv2d_23 (Conv2D)           (None, None, None, 256)   590080    \n",
      "_________________________________________________________________\n",
      "max_pooling2d_5 (MaxPooling2 (None, None, None, 256)   0         \n",
      "_________________________________________________________________\n",
      "conv2d_24 (Conv2D)           (None, None, None, 512)   1180160   \n",
      "_________________________________________________________________\n",
      "conv2d_25 (Conv2D)           (None, None, None, 512)   2359808   \n",
      "_________________________________________________________________\n",
      "conv2d_26 (Conv2D)           (None, None, None, 512)   2359808   \n",
      "_________________________________________________________________\n",
      "conv2d_27 (Conv2D)           (None, None, None, 512)   2359808   \n",
      "_________________________________________________________________\n",
      "conv2d_28 (Conv2D)           (None, None, None, 512)   2359808   \n",
      "_________________________________________________________________\n",
      "conv2d_29 (Conv2D)           (None, None, None, 512)   2359808   \n",
      "_________________________________________________________________\n",
      "conv2d_30 (Conv2D)           (None, None, None, 256)   1179904   \n",
      "_________________________________________________________________\n",
      "conv2d_31 (Conv2D)           (None, None, None, 128)   295040    \n",
      "_________________________________________________________________\n",
      "conv2d_32 (Conv2D)           (None, None, None, 64)    73792     \n",
      "_________________________________________________________________\n",
      "conv2d_33 (Conv2D)           (None, None, None, 1)     65        \n",
      "=================================================================\n",
      "Total params: 16,263,489\n",
      "Trainable params: 16,263,489\n",
      "Non-trainable params: 0\n",
      "_________________________________________________________________\n"
     ]
    }
   ],
   "source": [
    "model.summary()"
   ]
  },
  {
   "cell_type": "code",
   "execution_count": 15,
   "metadata": {},
   "outputs": [],
   "source": [
    "train_gen = image_generator(img_paths,1)"
   ]
  },
  {
   "cell_type": "code",
   "execution_count": 18,
   "metadata": {},
   "outputs": [],
   "source": [
    "opt = Adam(learning_rate=0.01)\n",
    "model.compile(optimizer=opt, loss=euclidean_distance_loss, metrics=['mse'])"
   ]
  },
  {
   "cell_type": "code",
   "execution_count": 19,
   "metadata": {},
   "outputs": [
    {
     "name": "stderr",
     "output_type": "stream",
     "text": [
      "C:\\Users\\mohit\\Anaconda3\\lib\\site-packages\\tensorflow\\python\\keras\\engine\\training.py:1844: UserWarning: `Model.fit_generator` is deprecated and will be removed in a future version. Please use `Model.fit`, which supports generators.\n",
      "  warnings.warn('`Model.fit_generator` is deprecated and '\n"
     ]
    },
    {
     "name": "stdout",
     "output_type": "stream",
     "text": [
      "Epoch 1/2\n"
     ]
    },
    {
     "name": "stdout",
     "output_type": "stream",
     "text": [
      "226/700 [========>.....................] - ETA: 17:43:12 - loss: 0.0099 - mse: 0.004 - ETA: 2:59:10 - loss: nan - mse: nan      - ETA: 3:06:50 - loss: nan - mse: n - ETA: 2:55:25 - loss: nan - mse: n - ETA: 2:36:27 - loss: nan - mse: n - ETA: 2:16:32 - loss: nan - mse: n - ETA: 2:31:50 - loss: nan - mse: n - ETA: 2:19:55 - loss: nan - mse: n - ETA: 2:19:05 - loss: nan - mse: n - ETA: 2:11:25 - loss: nan - mse: n - ETA: 2:06:10 - loss: nan - mse: n - ETA: 2:11:19 - loss: nan - mse: n - ETA: 2:12:24 - loss: nan - mse: n - ETA: 2:14:51 - loss: nan - mse: n - ETA: 2:21:05 - loss: nan - mse: n - ETA: 2:15:46 - loss: nan - mse: n - ETA: 2:11:00 - loss: nan - mse: n - ETA: 2:12:13 - loss: nan - mse: n - ETA: 2:16:20 - loss: nan - mse: n - ETA: 2:15:46 - loss: nan - mse: n - ETA: 2:19:23 - loss: nan - mse: n - ETA: 2:21:24 - loss: nan - mse: n - ETA: 2:24:40 - loss: nan - mse: n - ETA: 2:24:55 - loss: nan - mse: n - ETA: 2:27:31 - loss: nan - mse: n - ETA: 2:23:00 - loss: nan - mse: n - ETA: 2:23:14 - loss: nan - mse: n - ETA: 2:20:27 - loss: nan - mse: n - ETA: 2:21:52 - loss: nan - mse: n - ETA: 2:24:04 - loss: nan - mse: n - ETA: 2:25:14 - loss: nan - mse: n - ETA: 2:24:23 - loss: nan - mse: n - ETA: 2:24:23 - loss: nan - mse: n - ETA: 2:25:46 - loss: nan - mse: n - ETA: 2:27:58 - loss: nan - mse: n - ETA: 2:36:00 - loss: nan - mse: n - ETA: 2:42:47 - loss: nan - mse: n - ETA: 2:47:53 - loss: nan - mse: n - ETA: 2:49:31 - loss: nan - mse: n - ETA: 2:57:44 - loss: nan - mse: n - ETA: 3:04:07 - loss: nan - mse: n - ETA: 3:11:27 - loss: nan - mse: n - ETA: 3:20:20 - loss: nan - mse: n - ETA: 3:28:09 - loss: nan - mse: n - ETA: 3:33:19 - loss: nan - mse: n - ETA: 3:32:38 - loss: nan - mse: n - ETA: 3:29:54 - loss: nan - mse: n - ETA: 3:35:00 - loss: nan - mse: n - ETA: 3:41:08 - loss: nan - mse: n - ETA: 3:46:11 - loss: nan - mse: n - ETA: 3:48:50 - loss: nan - mse: n - ETA: 3:46:30 - loss: nan - mse: n - ETA: 3:45:33 - loss: nan - mse: n - ETA: 3:43:56 - loss: nan - mse: n - ETA: 3:47:11 - loss: nan - mse: n - ETA: 3:47:01 - loss: nan - mse: n - ETA: 3:43:24 - loss: nan - mse: n - ETA: 3:39:48 - loss: nan - mse: n - ETA: 3:37:38 - loss: nan - mse: n - ETA: 3:34:42 - loss: nan - mse: n - ETA: 3:31:25 - loss: nan - mse: n - ETA: 3:28:45 - loss: nan - mse: n - ETA: 3:27:10 - loss: nan - mse: n - ETA: 3:25:36 - loss: nan - mse: n - ETA: 3:23:51 - loss: nan - mse: n - ETA: 3:21:01 - loss: nan - mse: n - ETA: 3:19:05 - loss: nan - mse: n - ETA: 3:17:24 - loss: nan - mse: n - ETA: 3:16:02 - loss: nan - mse: n - ETA: 3:13:14 - loss: nan - mse: n - ETA: 3:11:46 - loss: nan - mse: n - ETA: 3:09:16 - loss: nan - mse: n - ETA: 3:07:33 - loss: nan - mse: n - ETA: 3:05:22 - loss: nan - mse: n - ETA: 3:03:19 - loss: nan - mse: n - ETA: 3:01:33 - loss: nan - mse: n - ETA: 3:00:20 - loss: nan - mse: n - ETA: 2:58:49 - loss: nan - mse: n - ETA: 2:57:20 - loss: nan - mse: n - ETA: 2:55:51 - loss: nan - mse: n - ETA: 2:53:49 - loss: nan - mse: n - ETA: 2:51:53 - loss: nan - mse: n - ETA: 2:50:51 - loss: nan - mse: n - ETA: 2:48:55 - loss: nan - mse: n - ETA: 2:47:06 - loss: nan - mse: n - ETA: 2:45:08 - loss: nan - mse: n - ETA: 2:44:13 - loss: nan - mse: n - ETA: 2:42:19 - loss: nan - mse: n - ETA: 2:40:42 - loss: nan - mse: n - ETA: 2:39:36 - loss: nan - mse: n - ETA: 2:38:47 - loss: nan - mse: n - ETA: 2:38:06 - loss: nan - mse: n - ETA: 2:37:27 - loss: nan - mse: n - ETA: 2:36:50 - loss: nan - mse: n - ETA: 2:36:11 - loss: nan - mse: n - ETA: 2:35:26 - loss: nan - mse: n - ETA: 2:33:50 - loss: nan - mse: n - ETA: 2:32:15 - loss: nan - mse: n - ETA: 2:32:31 - loss: nan - mse: n - ETA: 2:32:27 - loss: nan - mse: n - ETA: 2:31:44 - loss: nan - mse: n - ETA: 2:30:11 - loss: nan - mse: n - ETA: 2:29:23 - loss: nan - mse: n - ETA: 2:28:40 - loss: nan - mse: n - ETA: 2:28:09 - loss: nan - mse: n - ETA: 2:27:20 - loss: nan - mse: n - ETA: 2:26:47 - loss: nan - mse: n - ETA: 2:26:09 - loss: nan - mse: n - ETA: 2:25:43 - loss: nan - mse: n - ETA: 2:24:48 - loss: nan - mse: n - ETA: 2:23:40 - loss: nan - mse: n - ETA: 2:23:05 - loss: nan - mse: n - ETA: 2:22:21 - loss: nan - mse: n - ETA: 2:21:56 - loss: nan - mse: n - ETA: 2:21:16 - loss: nan - mse: n - ETA: 2:20:45 - loss: nan - mse: n - ETA: 2:20:19 - loss: nan - mse: n - ETA: 2:19:41 - loss: nan - mse: n - ETA: 2:18:42 - loss: nan - mse: n - ETA: 2:17:29 - loss: nan - mse: n - ETA: 2:16:52 - loss: nan - mse: n - ETA: 2:16:22 - loss: nan - mse: n - ETA: 2:15:47 - loss: nan - mse: n - ETA: 2:15:17 - loss: nan - mse: n - ETA: 2:14:26 - loss: nan - mse: n - ETA: 2:13:20 - loss: nan - mse: n - ETA: 2:12:52 - loss: nan - mse: n - ETA: 2:11:49 - loss: nan - mse: n - ETA: 2:11:22 - loss: nan - mse: n - ETA: 2:11:14 - loss: nan - mse: n - ETA: 2:10:16 - loss: nan - mse: n - ETA: 2:09:52 - loss: nan - mse: n - ETA: 2:08:53 - loss: nan - mse: n - ETA: 2:07:51 - loss: nan - mse: n - ETA: 2:07:08 - loss: nan - mse: n - ETA: 2:06:48 - loss: nan - mse: n - ETA: 2:06:29 - loss: nan - mse: n - ETA: 2:05:34 - loss: nan - mse: n - ETA: 2:04:41 - loss: nan - mse: n - ETA: 2:03:54 - loss: nan - mse: n - ETA: 2:03:31 - loss: nan - mse: n - ETA: 2:03:17 - loss: nan - mse: n - ETA: 2:02:57 - loss: nan - mse: n - ETA: 2:02:36 - loss: nan - mse: n - ETA: 2:02:34 - loss: nan - mse: n - ETA: 2:02:18 - loss: nan - mse: n - ETA: 2:01:57 - loss: nan - mse: n - ETA: 2:01:28 - loss: nan - mse: n - ETA: 2:00:53 - loss: nan - mse: n - ETA: 2:00:30 - loss: nan - mse: n - ETA: 1:59:38 - loss: nan - mse: n - ETA: 1:59:18 - loss: nan - mse: n - ETA: 1:58:57 - loss: nan - mse: n - ETA: 1:58:41 - loss: nan - mse: n - ETA: 1:58:39 - loss: nan - mse: n - ETA: 1:58:24 - loss: nan - mse: n - ETA: 1:57:35 - loss: nan - mse: n - ETA: 1:57:16 - loss: nan - mse: n - ETA: 1:56:30 - loss: nan - mse: n - ETA: 1:56:07 - loss: nan - mse: n - ETA: 1:55:45 - loss: nan - mse: n - ETA: 1:55:30 - loss: nan - mse: n - ETA: 1:55:10 - loss: nan - mse: n - ETA: 1:54:56 - loss: nan - mse: n - ETA: 1:54:43 - loss: nan - mse: n - ETA: 1:54:02 - loss: nan - mse: n - ETA: 1:53:48 - loss: nan - mse: n - ETA: 1:53:27 - loss: nan - mse: n - ETA: 1:52:56 - loss: nan - mse: n - ETA: 1:52:42 - loss: nan - mse: n - ETA: 1:51:56 - loss: nan - mse: n - ETA: 1:51:36 - loss: nan - mse: n - ETA: 1:50:54 - loss: nan - mse: n - ETA: 1:50:36 - loss: nan - mse: n - ETA: 1:50:18 - loss: nan - mse: n - ETA: 1:50:04 - loss: nan - mse: n - ETA: 1:49:31 - loss: nan - mse: n - ETA: 1:49:30 - loss: nan - mse: n - ETA: 1:49:10 - loss: nan - mse: n - ETA: 1:48:53 - loss: nan - mse: n - ETA: 1:48:12 - loss: nan - mse: n - ETA: 1:47:56 - loss: nan - mse: n - ETA: 1:47:18 - loss: nan - mse: n - ETA: 1:46:54 - loss: nan - mse: n - ETA: 1:46:38 - loss: nan - mse: n - ETA: 1:46:18 - loss: nan - mse: n - ETA: 1:45:38 - loss: nan - mse: n - ETA: 1:44:57 - loss: nan - mse: n - ETA: 1:44:19 - loss: nan - mse: n - ETA: 1:44:08 - loss: nan - mse: n - ETA: 1:43:59 - loss: nan - mse: n - ETA: 1:43:31 - loss: nan - mse: n - ETA: 1:43:10 - loss: nan - mse: n - ETA: 1:42:55 - loss: nan - mse: n - ETA: 1:42:42 - loss: nan - mse: n - ETA: 1:42:30 - loss: nan - mse: n - ETA: 1:42:15 - loss: nan - mse: n - ETA: 1:42:04 - loss: nan - mse: n - ETA: 1:41:48 - loss: nan - mse: n - ETA: 1:41:10 - loss: nan - mse: n - ETA: 1:40:32 - loss: nan - mse: n - ETA: 1:40:13 - loss: nan - mse: n - ETA: 1:39:57 - loss: nan - mse: n - ETA: 1:39:21 - loss: nan - mse: n - ETA: 1:39:07 - loss: nan - mse: n - ETA: 1:38:53 - loss: nan - mse: n - ETA: 1:38:26 - loss: nan - mse: n - ETA: 1:37:56 - loss: nan - mse: n - ETA: 1:37:42 - loss: nan - mse: n - ETA: 1:37:24 - loss: nan - mse: n - ETA: 1:36:56 - loss: nan - mse: n - ETA: 1:36:41 - loss: nan - mse: n - ETA: 1:36:13 - loss: nan - mse: n - ETA: 1:36:00 - loss: nan - mse: n - ETA: 1:35:28 - loss: nan - mse: n - ETA: 1:35:09 - loss: nan - mse: n - ETA: 1:34:40 - loss: nan - mse: n - ETA: 1:34:26 - loss: nan - mse: n - ETA: 1:34:12 - loss: nan - mse: n - ETA: 1:33:58 - loss: nan - mse: n - ETA: 1:33:43 - loss: nan - mse: n - ETA: 1:33:15 - loss: nan - mse: n - ETA: 1:33:02 - loss: nan - mse: n - ETA: 1:32:47 - loss: nan - mse: n - ETA: 1:32:39 - loss: nan - mse: n - ETA: 1:32:26 - loss: nan - mse: nan\b\b\b\b\b\b\b\b\b\b\b\b\b\b\b\b\b\b\b\b\b\b\b\b\b\b\b\b\b\b\b\b\b\b\b\b\b\b\b\b\b\b\b\b\b\b\b\b\b\b\b\b\b\b\b\b\b\b\b\b\b\b\b\b\b\b\b\b\b\b\b\b\b\b\b\b\b\b"
     ]
    },
    {
     "name": "stdout",
     "output_type": "stream",
     "text": [
      "459/700 [==================>...........] - ETA: 1:31:55 - loss: nan - mse: n - ETA: 1:31:26 - loss: nan - mse: n - ETA: 1:31:11 - loss: nan - mse: n - ETA: 1:30:58 - loss: nan - mse: n - ETA: 1:30:45 - loss: nan - mse: n - ETA: 1:30:26 - loss: nan - mse: n - ETA: 1:30:11 - loss: nan - mse: n - ETA: 1:29:59 - loss: nan - mse: n - ETA: 1:29:46 - loss: nan - mse: n - ETA: 1:29:32 - loss: nan - mse: n - ETA: 1:29:06 - loss: nan - mse: n - ETA: 1:28:53 - loss: nan - mse: n - ETA: 1:28:34 - loss: nan - mse: n - ETA: 1:28:22 - loss: nan - mse: n - ETA: 1:28:12 - loss: nan - mse: n - ETA: 1:27:49 - loss: nan - mse: n - ETA: 1:27:38 - loss: nan - mse: n - ETA: 1:27:13 - loss: nan - mse: n - ETA: 1:26:47 - loss: nan - mse: n - ETA: 1:26:35 - loss: nan - mse: n - ETA: 1:26:14 - loss: nan - mse: n - ETA: 1:26:00 - loss: nan - mse: n - ETA: 1:25:47 - loss: nan - mse: n - ETA: 1:25:35 - loss: nan - mse: n - ETA: 1:25:10 - loss: nan - mse: n - ETA: 1:25:08 - loss: nan - mse: n - ETA: 1:24:41 - loss: nan - mse: n - ETA: 1:24:32 - loss: nan - mse: n - ETA: 1:24:28 - loss: nan - mse: n - ETA: 1:24:02 - loss: nan - mse: n - ETA: 1:23:35 - loss: nan - mse: n - ETA: 1:23:23 - loss: nan - mse: n - ETA: 1:23:09 - loss: nan - mse: n - ETA: 1:23:00 - loss: nan - mse: n - ETA: 1:22:49 - loss: nan - mse: n - ETA: 1:22:23 - loss: nan - mse: n - ETA: 1:22:14 - loss: nan - mse: n - ETA: 1:22:03 - loss: nan - mse: n - ETA: 1:21:45 - loss: nan - mse: n - ETA: 1:21:35 - loss: nan - mse: n - ETA: 1:21:26 - loss: nan - mse: n - ETA: 1:21:15 - loss: nan - mse: n - ETA: 1:21:03 - loss: nan - mse: n - ETA: 1:20:53 - loss: nan - mse: n - ETA: 1:20:42 - loss: nan - mse: n - ETA: 1:20:30 - loss: nan - mse: n - ETA: 1:20:08 - loss: nan - mse: n - ETA: 1:19:47 - loss: nan - mse: n - ETA: 1:19:36 - loss: nan - mse: n - ETA: 1:19:25 - loss: nan - mse: n - ETA: 1:19:10 - loss: nan - mse: n - ETA: 1:19:01 - loss: nan - mse: n - ETA: 1:18:56 - loss: nan - mse: n - ETA: 1:18:36 - loss: nan - mse: n - ETA: 1:18:22 - loss: nan - mse: n - ETA: 1:18:12 - loss: nan - mse: n - ETA: 1:18:00 - loss: nan - mse: n - ETA: 1:17:43 - loss: nan - mse: n - ETA: 1:17:28 - loss: nan - mse: n - ETA: 1:17:15 - loss: nan - mse: n - ETA: 1:17:03 - loss: nan - mse: n - ETA: 1:16:42 - loss: nan - mse: n - ETA: 1:16:29 - loss: nan - mse: n - ETA: 1:16:09 - loss: nan - mse: n - ETA: 1:16:00 - loss: nan - mse: n - ETA: 1:15:44 - loss: nan - mse: n - ETA: 1:15:32 - loss: nan - mse: n - ETA: 1:15:20 - loss: nan - mse: n - ETA: 1:15:02 - loss: nan - mse: n - ETA: 1:14:40 - loss: nan - mse: n - ETA: 1:14:19 - loss: nan - mse: n - ETA: 1:14:05 - loss: nan - mse: n - ETA: 1:13:44 - loss: nan - mse: n - ETA: 1:13:25 - loss: nan - mse: n - ETA: 1:13:06 - loss: nan - mse: n - ETA: 1:12:53 - loss: nan - mse: n - ETA: 1:12:30 - loss: nan - mse: n - ETA: 1:12:11 - loss: nan - mse: n - ETA: 1:11:50 - loss: nan - mse: n - ETA: 1:11:32 - loss: nan - mse: n - ETA: 1:11:21 - loss: nan - mse: n - ETA: 1:11:00 - loss: nan - mse: n - ETA: 1:10:46 - loss: nan - mse: n - ETA: 1:10:27 - loss: nan - mse: n - ETA: 1:10:08 - loss: nan - mse: n - ETA: 1:09:56 - loss: nan - mse: n - ETA: 1:09:34 - loss: nan - mse: n - ETA: 1:09:22 - loss: nan - mse: n - ETA: 1:09:13 - loss: nan - mse: n - ETA: 1:08:52 - loss: nan - mse: n - ETA: 1:08:43 - loss: nan - mse: n - ETA: 1:08:33 - loss: nan - mse: n - ETA: 1:08:12 - loss: nan - mse: n - ETA: 1:07:54 - loss: nan - mse: n - ETA: 1:07:45 - loss: nan - mse: n - ETA: 1:07:35 - loss: nan - mse: n - ETA: 1:07:14 - loss: nan - mse: n - ETA: 1:07:04 - loss: nan - mse: n - ETA: 1:06:50 - loss: nan - mse: n - ETA: 1:06:33 - loss: nan - mse: n - ETA: 1:06:21 - loss: nan - mse: n - ETA: 1:06:04 - loss: nan - mse: n - ETA: 1:05:52 - loss: nan - mse: n - ETA: 1:05:39 - loss: nan - mse: n - ETA: 1:05:21 - loss: nan - mse: n - ETA: 1:05:11 - loss: nan - mse: n - ETA: 1:04:53 - loss: nan - mse: n - ETA: 1:04:45 - loss: nan - mse: n - ETA: 1:04:35 - loss: nan - mse: n - ETA: 1:04:25 - loss: nan - mse: n - ETA: 1:04:12 - loss: nan - mse: n - ETA: 1:03:59 - loss: nan - mse: n - ETA: 1:03:47 - loss: nan - mse: n - ETA: 1:03:38 - loss: nan - mse: n - ETA: 1:03:19 - loss: nan - mse: n - ETA: 1:03:10 - loss: nan - mse: n - ETA: 1:02:52 - loss: nan - mse: n - ETA: 1:02:42 - loss: nan - mse: n - ETA: 1:02:32 - loss: nan - mse: n - ETA: 1:02:13 - loss: nan - mse: n - ETA: 1:01:56 - loss: nan - mse: n - ETA: 1:01:37 - loss: nan - mse: n - ETA: 1:01:29 - loss: nan - mse: n - ETA: 1:01:19 - loss: nan - mse: n - ETA: 1:01:05 - loss: nan - mse: n - ETA: 1:00:55 - loss: nan - mse: n - ETA: 1:00:45 - loss: nan - mse: n - ETA: 1:00:33 - loss: nan - mse: n - ETA: 1:00:22 - loss: nan - mse: n - ETA: 1:00:09 - loss: nan - mse: n - ETA: 59:55 - loss: nan - mse: nan - ETA: 59:40 - loss: nan - mse: n - ETA: 59:30 - loss: nan - mse: n - ETA: 59:20 - loss: nan - mse: n - ETA: 59:11 - loss: nan - mse: n - ETA: 58:55 - loss: nan - mse: n - ETA: 58:38 - loss: nan - mse: n - ETA: 58:27 - loss: nan - mse: n - ETA: 58:18 - loss: nan - mse: n - ETA: 58:01 - loss: nan - mse: n - ETA: 57:54 - loss: nan - mse: n - ETA: 57:38 - loss: nan - mse: n - ETA: 57:28 - loss: nan - mse: n - ETA: 57:18 - loss: nan - mse: n - ETA: 57:07 - loss: nan - mse: n - ETA: 56:57 - loss: nan - mse: n - ETA: 56:49 - loss: nan - mse: n - ETA: 56:38 - loss: nan - mse: n - ETA: 56:26 - loss: nan - mse: n - ETA: 56:17 - loss: nan - mse: n - ETA: 56:07 - loss: nan - mse: n - ETA: 55:59 - loss: nan - mse: n - ETA: 55:43 - loss: nan - mse: n - ETA: 55:30 - loss: nan - mse: n - ETA: 55:13 - loss: nan - mse: n - ETA: 55:02 - loss: nan - mse: n - ETA: 54:52 - loss: nan - mse: n - ETA: 54:35 - loss: nan - mse: n - ETA: 54:20 - loss: nan - mse: n - ETA: 54:04 - loss: nan - mse: n - ETA: 53:53 - loss: nan - mse: n - ETA: 53:40 - loss: nan - mse: n - ETA: 53:28 - loss: nan - mse: n - ETA: 53:17 - loss: nan - mse: n - ETA: 53:08 - loss: nan - mse: n - ETA: 52:59 - loss: nan - mse: n - ETA: 52:48 - loss: nan - mse: n - ETA: 52:32 - loss: nan - mse: n - ETA: 52:20 - loss: nan - mse: n - ETA: 52:04 - loss: nan - mse: n - ETA: 51:55 - loss: nan - mse: n - ETA: 51:47 - loss: nan - mse: n - ETA: 51:30 - loss: nan - mse: n - ETA: 51:19 - loss: nan - mse: n - ETA: 51:10 - loss: nan - mse: n - ETA: 51:00 - loss: nan - mse: n - ETA: 50:50 - loss: nan - mse: n - ETA: 50:39 - loss: nan - mse: n - ETA: 50:29 - loss: nan - mse: n - ETA: 50:15 - loss: nan - mse: n - ETA: 50:04 - loss: nan - mse: n - ETA: 49:59 - loss: nan - mse: n - ETA: 49:49 - loss: nan - mse: n - ETA: 49:40 - loss: nan - mse: n - ETA: 49:24 - loss: nan - mse: n - ETA: 49:07 - loss: nan - mse: n - ETA: 48:59 - loss: nan - mse: n - ETA: 48:53 - loss: nan - mse: n - ETA: 48:42 - loss: nan - mse: n - ETA: 48:33 - loss: nan - mse: n - ETA: 48:23 - loss: nan - mse: n - ETA: 48:08 - loss: nan - mse: n - ETA: 47:59 - loss: nan - mse: n - ETA: 47:48 - loss: nan - mse: n - ETA: 47:37 - loss: nan - mse: n - ETA: 47:28 - loss: nan - mse: n - ETA: 47:19 - loss: nan - mse: n - ETA: 47:11 - loss: nan - mse: n - ETA: 46:56 - loss: nan - mse: n - ETA: 46:42 - loss: nan - mse: n - ETA: 46:28 - loss: nan - mse: n - ETA: 46:19 - loss: nan - mse: n - ETA: 46:11 - loss: nan - mse: n - ETA: 45:56 - loss: nan - mse: n - ETA: 45:44 - loss: nan - mse: n - ETA: 45:35 - loss: nan - mse: n - ETA: 45:26 - loss: nan - mse: n - ETA: 45:16 - loss: nan - mse: n - ETA: 45:05 - loss: nan - mse: n - ETA: 44:56 - loss: nan - mse: n - ETA: 44:47 - loss: nan - mse: n - ETA: 44:36 - loss: nan - mse: n - ETA: 44:27 - loss: nan - mse: n - ETA: 44:17 - loss: nan - mse: n - ETA: 44:04 - loss: nan - mse: n - ETA: 43:55 - loss: nan - mse: n - ETA: 43:49 - loss: nan - mse: n - ETA: 43:39 - loss: nan - mse: n - ETA: 43:29 - loss: nan - mse: n - ETA: 43:14 - loss: nan - mse: n - ETA: 43:06 - loss: nan - mse: n - ETA: 42:55 - loss: nan - mse: n - ETA: 42:45 - loss: nan - mse: n - ETA: 42:37 - loss: nan - mse: n - ETA: 42:26 - loss: nan - mse: n - ETA: 42:17 - loss: nan - mse: n - ETA: 42:05 - loss: nan - mse: n - ETA: 41:55 - loss: nan - mse: n - ETA: 41:41 - loss: nan - mse: n - ETA: 41:27 - loss: nan - mse: n - ETA: 41:16 - loss: nan - mse: n - ETA: 41:02 - loss: nan - mse: n - ETA: 40:52 - loss: nan - mse: nan"
     ]
    },
    {
     "name": "stdout",
     "output_type": "stream",
     "text": [
      "699/700 [============================>.] - ETA: 40:41 - loss: nan - mse: n - ETA: 40:32 - loss: nan - mse: n - ETA: 40:21 - loss: nan - mse: n - ETA: 40:11 - loss: nan - mse: n - ETA: 40:02 - loss: nan - mse: n - ETA: 39:50 - loss: nan - mse: n - ETA: 39:40 - loss: nan - mse: n - ETA: 39:29 - loss: nan - mse: n - ETA: 39:19 - loss: nan - mse: n - ETA: 39:12 - loss: nan - mse: n - ETA: 39:03 - loss: nan - mse: n - ETA: 38:54 - loss: nan - mse: n - ETA: 38:45 - loss: nan - mse: n - ETA: 38:36 - loss: nan - mse: n - ETA: 38:26 - loss: nan - mse: n - ETA: 38:16 - loss: nan - mse: n - ETA: 38:04 - loss: nan - mse: n - ETA: 37:55 - loss: nan - mse: n - ETA: 37:43 - loss: nan - mse: n - ETA: 37:34 - loss: nan - mse: n - ETA: 37:20 - loss: nan - mse: n - ETA: 37:09 - loss: nan - mse: n - ETA: 36:55 - loss: nan - mse: n - ETA: 36:42 - loss: nan - mse: n - ETA: 36:32 - loss: nan - mse: n - ETA: 36:20 - loss: nan - mse: n - ETA: 36:10 - loss: nan - mse: n - ETA: 35:58 - loss: nan - mse: n - ETA: 35:48 - loss: nan - mse: n - ETA: 35:37 - loss: nan - mse: n - ETA: 35:28 - loss: nan - mse: n - ETA: 35:18 - loss: nan - mse: n - ETA: 35:09 - loss: nan - mse: n - ETA: 34:59 - loss: nan - mse: n - ETA: 34:49 - loss: nan - mse: n - ETA: 34:38 - loss: nan - mse: n - ETA: 34:29 - loss: nan - mse: n - ETA: 34:15 - loss: nan - mse: n - ETA: 34:06 - loss: nan - mse: n - ETA: 33:55 - loss: nan - mse: n - ETA: 33:45 - loss: nan - mse: n - ETA: 33:35 - loss: nan - mse: n - ETA: 33:23 - loss: nan - mse: n - ETA: 33:10 - loss: nan - mse: n - ETA: 32:57 - loss: nan - mse: n - ETA: 32:48 - loss: nan - mse: n - ETA: 32:35 - loss: nan - mse: n - ETA: 32:25 - loss: nan - mse: n - ETA: 32:15 - loss: nan - mse: n - ETA: 32:06 - loss: nan - mse: n - ETA: 31:53 - loss: nan - mse: n - ETA: 31:41 - loss: nan - mse: n - ETA: 31:29 - loss: nan - mse: n - ETA: 31:19 - loss: nan - mse: n - ETA: 31:10 - loss: nan - mse: n - ETA: 30:59 - loss: nan - mse: n - ETA: 30:48 - loss: nan - mse: n - ETA: 30:38 - loss: nan - mse: n - ETA: 30:29 - loss: nan - mse: n - ETA: 30:19 - loss: nan - mse: n - ETA: 30:08 - loss: nan - mse: n - ETA: 29:56 - loss: nan - mse: n - ETA: 29:47 - loss: nan - mse: n - ETA: 29:38 - loss: nan - mse: n - ETA: 29:28 - loss: nan - mse: n - ETA: 29:18 - loss: nan - mse: n - ETA: 29:08 - loss: nan - mse: n - ETA: 28:59 - loss: nan - mse: n - ETA: 28:49 - loss: nan - mse: n - ETA: 28:40 - loss: nan - mse: n - ETA: 28:29 - loss: nan - mse: n - ETA: 28:19 - loss: nan - mse: n - ETA: 28:08 - loss: nan - mse: n - ETA: 27:58 - loss: nan - mse: n - ETA: 27:48 - loss: nan - mse: n - ETA: 27:36 - loss: nan - mse: n - ETA: 27:25 - loss: nan - mse: n - ETA: 27:14 - loss: nan - mse: n - ETA: 27:04 - loss: nan - mse: n - ETA: 26:56 - loss: nan - mse: n - ETA: 26:44 - loss: nan - mse: n - ETA: 26:32 - loss: nan - mse: n - ETA: 26:21 - loss: nan - mse: n - ETA: 26:09 - loss: nan - mse: n - ETA: 26:02 - loss: nan - mse: n - ETA: 25:53 - loss: nan - mse: n - ETA: 25:45 - loss: nan - mse: n - ETA: 25:36 - loss: nan - mse: n - ETA: 25:26 - loss: nan - mse: n - ETA: 25:16 - loss: nan - mse: n - ETA: 25:05 - loss: nan - mse: n - ETA: 24:54 - loss: nan - mse: n - ETA: 24:42 - loss: nan - mse: n - ETA: 24:35 - loss: nan - mse: n - ETA: 24:27 - loss: nan - mse: n - ETA: 24:16 - loss: nan - mse: n - ETA: 24:07 - loss: nan - mse: n - ETA: 24:00 - loss: nan - mse: n - ETA: 23:50 - loss: nan - mse: n - ETA: 23:42 - loss: nan - mse: n - ETA: 23:33 - loss: nan - mse: n - ETA: 23:22 - loss: nan - mse: n - ETA: 23:14 - loss: nan - mse: n - ETA: 23:05 - loss: nan - mse: n - ETA: 22:57 - loss: nan - mse: n - ETA: 22:49 - loss: nan - mse: n - ETA: 22:42 - loss: nan - mse: n - ETA: 22:34 - loss: nan - mse: n - ETA: 22:25 - loss: nan - mse: n - ETA: 22:18 - loss: nan - mse: n - ETA: 22:09 - loss: nan - mse: n - ETA: 21:59 - loss: nan - mse: n - ETA: 21:52 - loss: nan - mse: n - ETA: 21:43 - loss: nan - mse: n - ETA: 21:32 - loss: nan - mse: n - ETA: 21:20 - loss: nan - mse: n - ETA: 21:09 - loss: nan - mse: n - ETA: 21:01 - loss: nan - mse: n - ETA: 20:50 - loss: nan - mse: n - ETA: 20:42 - loss: nan - mse: n - ETA: 20:33 - loss: nan - mse: n - ETA: 20:24 - loss: nan - mse: n - ETA: 20:16 - loss: nan - mse: n - ETA: 20:05 - loss: nan - mse: n - ETA: 19:57 - loss: nan - mse: n - ETA: 19:46 - loss: nan - mse: n - ETA: 19:36 - loss: nan - mse: n - ETA: 19:27 - loss: nan - mse: n - ETA: 19:15 - loss: nan - mse: n - ETA: 19:04 - loss: nan - mse: n - ETA: 18:54 - loss: nan - mse: n - ETA: 18:45 - loss: nan - mse: n - ETA: 18:37 - loss: nan - mse: n - ETA: 18:27 - loss: nan - mse: n - ETA: 18:18 - loss: nan - mse: n - ETA: 18:09 - loss: nan - mse: n - ETA: 17:59 - loss: nan - mse: n - ETA: 17:48 - loss: nan - mse: n - ETA: 17:38 - loss: nan - mse: n - ETA: 17:29 - loss: nan - mse: n - ETA: 17:20 - loss: nan - mse: n - ETA: 17:11 - loss: nan - mse: n - ETA: 17:01 - loss: nan - mse: n - ETA: 16:50 - loss: nan - mse: n - ETA: 16:41 - loss: nan - mse: n - ETA: 16:30 - loss: nan - mse: n - ETA: 16:21 - loss: nan - mse: n - ETA: 16:12 - loss: nan - mse: n - ETA: 16:03 - loss: nan - mse: n - ETA: 15:53 - loss: nan - mse: n - ETA: 15:44 - loss: nan - mse: n - ETA: 15:35 - loss: nan - mse: n - ETA: 15:25 - loss: nan - mse: n - ETA: 15:14 - loss: nan - mse: n - ETA: 15:06 - loss: nan - mse: n - ETA: 14:56 - loss: nan - mse: n - ETA: 14:46 - loss: nan - mse: n - ETA: 14:35 - loss: nan - mse: n - ETA: 14:25 - loss: nan - mse: n - ETA: 14:16 - loss: nan - mse: n - ETA: 14:07 - loss: nan - mse: n - ETA: 13:58 - loss: nan - mse: n - ETA: 13:46 - loss: nan - mse: n - ETA: 13:35 - loss: nan - mse: n - ETA: 13:26 - loss: nan - mse: n - ETA: 13:16 - loss: nan - mse: n - ETA: 13:06 - loss: nan - mse: n - ETA: 12:55 - loss: nan - mse: n - ETA: 12:44 - loss: nan - mse: n - ETA: 12:33 - loss: nan - mse: n - ETA: 12:22 - loss: nan - mse: n - ETA: 12:13 - loss: nan - mse: n - ETA: 12:02 - loss: nan - mse: n - ETA: 11:53 - loss: nan - mse: n - ETA: 11:43 - loss: nan - mse: n - ETA: 11:32 - loss: nan - mse: n - ETA: 11:22 - loss: nan - mse: n - ETA: 11:11 - loss: nan - mse: n - ETA: 11:00 - loss: nan - mse: n - ETA: 10:50 - loss: nan - mse: n - ETA: 10:40 - loss: nan - mse: n - ETA: 10:30 - loss: nan - mse: n - ETA: 10:20 - loss: nan - mse: n - ETA: 10:09 - loss: nan - mse: n - ETA: 9:59 - loss: nan - mse: nan - ETA: 9:50 - loss: nan - mse: na - ETA: 9:39 - loss: nan - mse: na - ETA: 9:28 - loss: nan - mse: na - ETA: 9:18 - loss: nan - mse: na - ETA: 9:07 - loss: nan - mse: na - ETA: 8:57 - loss: nan - mse: na - ETA: 8:47 - loss: nan - mse: na - ETA: 8:37 - loss: nan - mse: na - ETA: 8:26 - loss: nan - mse: na - ETA: 8:16 - loss: nan - mse: na - ETA: 8:05 - loss: nan - mse: na - ETA: 7:55 - loss: nan - mse: na - ETA: 7:44 - loss: nan - mse: na - ETA: 7:33 - loss: nan - mse: na - ETA: 7:23 - loss: nan - mse: na - ETA: 7:13 - loss: nan - mse: na - ETA: 7:02 - loss: nan - mse: na - ETA: 6:52 - loss: nan - mse: na - ETA: 6:41 - loss: nan - mse: na - ETA: 6:30 - loss: nan - mse: na - ETA: 6:19 - loss: nan - mse: na - ETA: 6:08 - loss: nan - mse: na - ETA: 5:58 - loss: nan - mse: na - ETA: 5:47 - loss: nan - mse: na - ETA: 5:37 - loss: nan - mse: na - ETA: 5:26 - loss: nan - mse: na - ETA: 5:15 - loss: nan - mse: na - ETA: 5:04 - loss: nan - mse: na - ETA: 4:53 - loss: nan - mse: na - ETA: 4:42 - loss: nan - mse: na - ETA: 4:31 - loss: nan - mse: na - ETA: 4:20 - loss: nan - mse: na - ETA: 4:09 - loss: nan - mse: na - ETA: 3:58 - loss: nan - mse: na - ETA: 3:47 - loss: nan - mse: na - ETA: 3:37 - loss: nan - mse: na - ETA: 3:26 - loss: nan - mse: na - ETA: 3:15 - loss: nan - mse: na - ETA: 3:05 - loss: nan - mse: na - ETA: 2:54 - loss: nan - mse: na - ETA: 2:43 - loss: nan - mse: na - ETA: 2:32 - loss: nan - mse: na - ETA: 2:21 - loss: nan - mse: na - ETA: 2:10 - loss: nan - mse: na - ETA: 1:59 - loss: nan - mse: na - ETA: 1:48 - loss: nan - mse: na - ETA: 1:38 - loss: nan - mse: na - ETA: 1:27 - loss: nan - mse: na - ETA: 1:16 - loss: nan - mse: na - ETA: 1:05 - loss: nan - mse: na - ETA: 54s - loss: nan - mse: na - ETA: 43s - loss: nan - mse: n - ETA: 32s - loss: nan - mse: n - ETA: 21s - loss: nan - mse: n - ETA: 10s - loss: nan - mse: nan"
     ]
    },
    {
     "name": "stdout",
     "output_type": "stream",
     "text": [
      "700/700 [==============================] - ETA: 0s - loss: nan - mse: nan - 7784s 11s/step - loss: nan - mse: nan\n",
      "Epoch 2/2\n"
     ]
    },
    {
     "name": "stdout",
     "output_type": "stream",
     "text": [
      "227/700 [========>.....................] - ETA: 3:38:58 - loss: nan - mse: n - ETA: 4:03:37 - loss: nan - mse: n - ETA: 3:50:02 - loss: nan - mse: n - ETA: 2:57:57 - loss: nan - mse: n - ETA: 3:07:29 - loss: nan - mse: n - ETA: 3:06:34 - loss: nan - mse: n - ETA: 3:14:56 - loss: nan - mse: n - ETA: 2:57:51 - loss: nan - mse: n - ETA: 3:02:24 - loss: nan - mse: n - ETA: 2:56:32 - loss: nan - mse: n - ETA: 2:57:57 - loss: nan - mse: n - ETA: 2:54:10 - loss: nan - mse: n - ETA: 2:42:44 - loss: nan - mse: n - ETA: 2:46:26 - loss: nan - mse: n - ETA: 2:40:46 - loss: nan - mse: n - ETA: 2:45:57 - loss: nan - mse: n - ETA: 2:48:08 - loss: nan - mse: n - ETA: 2:48:10 - loss: nan - mse: n - ETA: 2:52:08 - loss: nan - mse: n - ETA: 2:46:42 - loss: nan - mse: n - ETA: 2:46:30 - loss: nan - mse: n - ETA: 2:46:24 - loss: nan - mse: n - ETA: 2:42:26 - loss: nan - mse: n - ETA: 2:36:41 - loss: nan - mse: n - ETA: 2:37:22 - loss: nan - mse: n - ETA: 2:38:28 - loss: nan - mse: n - ETA: 2:34:49 - loss: nan - mse: n - ETA: 2:31:35 - loss: nan - mse: n - ETA: 2:29:04 - loss: nan - mse: n - ETA: 2:30:55 - loss: nan - mse: n - ETA: 2:36:05 - loss: nan - mse: n - ETA: 2:37:46 - loss: nan - mse: n - ETA: 2:34:00 - loss: nan - mse: n - ETA: 2:35:29 - loss: nan - mse: n - ETA: 2:32:39 - loss: nan - mse: n - ETA: 2:34:13 - loss: nan - mse: n - ETA: 2:35:50 - loss: nan - mse: n - ETA: 2:37:04 - loss: nan - mse: n - ETA: 2:38:49 - loss: nan - mse: n - ETA: 2:38:51 - loss: nan - mse: n - ETA: 2:39:18 - loss: nan - mse: n - ETA: 2:40:49 - loss: nan - mse: n - ETA: 2:40:33 - loss: nan - mse: n - ETA: 2:41:57 - loss: nan - mse: n - ETA: 2:41:52 - loss: nan - mse: n - ETA: 2:42:35 - loss: nan - mse: n - ETA: 2:40:51 - loss: nan - mse: n - ETA: 2:40:58 - loss: nan - mse: n - ETA: 2:41:37 - loss: nan - mse: n - ETA: 2:42:16 - loss: nan - mse: n - ETA: 2:40:07 - loss: nan - mse: n - ETA: 2:38:09 - loss: nan - mse: n - ETA: 2:37:29 - loss: nan - mse: n - ETA: 2:38:19 - loss: nan - mse: n - ETA: 2:35:52 - loss: nan - mse: n - ETA: 2:36:03 - loss: nan - mse: n - ETA: 2:33:42 - loss: nan - mse: n - ETA: 2:32:07 - loss: nan - mse: n - ETA: 2:30:20 - loss: nan - mse: n - ETA: 2:30:56 - loss: nan - mse: n - ETA: 2:31:31 - loss: nan - mse: n - ETA: 2:31:38 - loss: nan - mse: n - ETA: 2:32:12 - loss: nan - mse: n - ETA: 2:30:27 - loss: nan - mse: n - ETA: 2:28:49 - loss: nan - mse: n - ETA: 2:28:34 - loss: nan - mse: n - ETA: 2:29:12 - loss: nan - mse: n - ETA: 2:29:17 - loss: nan - mse: n - ETA: 2:27:24 - loss: nan - mse: n - ETA: 2:27:53 - loss: nan - mse: n - ETA: 2:27:34 - loss: nan - mse: n - ETA: 2:26:09 - loss: nan - mse: n - ETA: 2:26:30 - loss: nan - mse: n - ETA: 2:26:55 - loss: nan - mse: n - ETA: 2:25:31 - loss: nan - mse: n - ETA: 2:25:50 - loss: nan - mse: n - ETA: 2:25:33 - loss: nan - mse: n - ETA: 2:26:01 - loss: nan - mse: n - ETA: 2:26:22 - loss: nan - mse: n - ETA: 2:26:10 - loss: nan - mse: n - ETA: 2:24:26 - loss: nan - mse: n - ETA: 2:23:37 - loss: nan - mse: n - ETA: 2:23:56 - loss: nan - mse: n - ETA: 2:24:17 - loss: nan - mse: n - ETA: 2:24:53 - loss: nan - mse: n - ETA: 2:25:13 - loss: nan - mse: n - ETA: 2:25:22 - loss: nan - mse: n - ETA: 2:25:34 - loss: nan - mse: n - ETA: 2:25:51 - loss: nan - mse: n - ETA: 2:26:23 - loss: nan - mse: n - ETA: 2:26:34 - loss: nan - mse: n - ETA: 2:26:37 - loss: nan - mse: n - ETA: 2:25:29 - loss: nan - mse: n - ETA: 2:24:12 - loss: nan - mse: n - ETA: 2:24:40 - loss: nan - mse: n - ETA: 2:23:29 - loss: nan - mse: n - ETA: 2:23:37 - loss: nan - mse: n - ETA: 2:23:25 - loss: nan - mse: n - ETA: 2:23:01 - loss: nan - mse: n - ETA: 2:21:56 - loss: nan - mse: n - ETA: 2:21:41 - loss: nan - mse: n - ETA: 2:20:44 - loss: nan - mse: n - ETA: 2:20:43 - loss: nan - mse: n - ETA: 2:19:55 - loss: nan - mse: n - ETA: 2:18:35 - loss: nan - mse: n - ETA: 2:20:05 - loss: nan - mse: n - ETA: 2:21:57 - loss: nan - mse: n - ETA: 2:21:15 - loss: nan - mse: n - ETA: 2:21:22 - loss: nan - mse: n - ETA: 2:22:45 - loss: nan - mse: n - ETA: 2:22:36 - loss: nan - mse: n - ETA: 2:25:15 - loss: nan - mse: n - ETA: 2:25:19 - loss: nan - mse: n - ETA: 2:26:44 - loss: nan - mse: n - ETA: 2:25:58 - loss: nan - mse: n - ETA: 2:27:40 - loss: nan - mse: n - ETA: 2:28:54 - loss: nan - mse: n - ETA: 2:28:10 - loss: nan - mse: n - ETA: 2:29:22 - loss: nan - mse: n - ETA: 2:29:09 - loss: nan - mse: n - ETA: 2:30:39 - loss: nan - mse: n - ETA: 2:31:38 - loss: nan - mse: n - ETA: 2:31:22 - loss: nan - mse: n - ETA: 2:32:48 - loss: nan - mse: n - ETA: 2:33:01 - loss: nan - mse: n - ETA: 2:33:11 - loss: nan - mse: n - ETA: 2:34:27 - loss: nan - mse: n - ETA: 2:33:45 - loss: nan - mse: n - ETA: 2:35:00 - loss: nan - mse: n - ETA: 2:34:27 - loss: nan - mse: n - ETA: 2:33:53 - loss: nan - mse: n - ETA: 2:34:48 - loss: nan - mse: n - ETA: 2:35:59 - loss: nan - mse: n - ETA: 2:36:11 - loss: nan - mse: n - ETA: 2:37:20 - loss: nan - mse: n - ETA: 2:38:04 - loss: nan - mse: n - ETA: 2:38:41 - loss: nan - mse: n - ETA: 2:38:20 - loss: nan - mse: n - ETA: 2:37:22 - loss: nan - mse: n - ETA: 2:36:26 - loss: nan - mse: n - ETA: 2:37:01 - loss: nan - mse: n - ETA: 2:38:05 - loss: nan - mse: n - ETA: 2:38:47 - loss: nan - mse: n - ETA: 2:38:09 - loss: nan - mse: n - ETA: 2:37:42 - loss: nan - mse: n - ETA: 2:36:42 - loss: nan - mse: n - ETA: 2:37:27 - loss: nan - mse: n - ETA: 2:37:20 - loss: nan - mse: n - ETA: 2:37:13 - loss: nan - mse: n - ETA: 2:37:37 - loss: nan - mse: n - ETA: 2:37:09 - loss: nan - mse: n - ETA: 2:37:01 - loss: nan - mse: n - ETA: 2:37:44 - loss: nan - mse: n - ETA: 2:37:37 - loss: nan - mse: n - ETA: 2:38:02 - loss: nan - mse: n - ETA: 2:38:43 - loss: nan - mse: n - ETA: 2:38:03 - loss: nan - mse: n - ETA: 2:38:08 - loss: nan - mse: n - ETA: 2:37:23 - loss: nan - mse: n - ETA: 2:36:42 - loss: nan - mse: n - ETA: 2:37:31 - loss: nan - mse: n - ETA: 2:38:07 - loss: nan - mse: n - ETA: 2:37:59 - loss: nan - mse: n - ETA: 2:38:32 - loss: nan - mse: n - ETA: 2:38:58 - loss: nan - mse: n - ETA: 2:39:20 - loss: nan - mse: n - ETA: 2:39:49 - loss: nan - mse: n - ETA: 2:40:04 - loss: nan - mse: n - ETA: 2:39:47 - loss: nan - mse: n - ETA: 2:40:03 - loss: nan - mse: n - ETA: 2:40:10 - loss: nan - mse: n - ETA: 2:40:35 - loss: nan - mse: n - ETA: 2:40:01 - loss: nan - mse: n - ETA: 2:40:36 - loss: nan - mse: n - ETA: 2:40:38 - loss: nan - mse: n - ETA: 2:41:00 - loss: nan - mse: n - ETA: 2:41:34 - loss: nan - mse: n - ETA: 2:42:05 - loss: nan - mse: n - ETA: 2:42:25 - loss: nan - mse: n - ETA: 2:42:58 - loss: nan - mse: n - ETA: 2:44:05 - loss: nan - mse: n - ETA: 2:44:51 - loss: nan - mse: n - ETA: 2:43:58 - loss: nan - mse: n - ETA: 2:45:51 - loss: nan - mse: n - ETA: 2:46:04 - loss: nan - mse: n - ETA: 2:45:28 - loss: nan - mse: n - ETA: 2:44:28 - loss: nan - mse: n - ETA: 2:43:52 - loss: nan - mse: n - ETA: 2:43:12 - loss: nan - mse: n - ETA: 2:42:33 - loss: nan - mse: n - ETA: 2:41:58 - loss: nan - mse: n - ETA: 2:41:17 - loss: nan - mse: n - ETA: 2:40:28 - loss: nan - mse: n - ETA: 2:39:46 - loss: nan - mse: n - ETA: 2:39:06 - loss: nan - mse: n - ETA: 2:38:10 - loss: nan - mse: n - ETA: 2:37:30 - loss: nan - mse: n - ETA: 2:36:34 - loss: nan - mse: n - ETA: 2:35:55 - loss: nan - mse: n - ETA: 2:35:10 - loss: nan - mse: n - ETA: 2:34:32 - loss: nan - mse: n - ETA: 2:33:49 - loss: nan - mse: n - ETA: 2:33:13 - loss: nan - mse: n - ETA: 2:32:35 - loss: nan - mse: n - ETA: 2:31:54 - loss: nan - mse: n - ETA: 2:31:20 - loss: nan - mse: n - ETA: 2:30:44 - loss: nan - mse: n - ETA: 2:29:58 - loss: nan - mse: n - ETA: 2:29:32 - loss: nan - mse: n - ETA: 2:28:56 - loss: nan - mse: n - ETA: 2:28:17 - loss: nan - mse: n - ETA: 2:27:41 - loss: nan - mse: n - ETA: 2:27:11 - loss: nan - mse: n - ETA: 2:26:32 - loss: nan - mse: n - ETA: 2:26:00 - loss: nan - mse: n - ETA: 2:25:26 - loss: nan - mse: n - ETA: 2:24:43 - loss: nan - mse: n - ETA: 2:24:04 - loss: nan - mse: n - ETA: 2:23:14 - loss: nan - mse: n - ETA: 2:22:39 - loss: nan - mse: n - ETA: 2:21:49 - loss: nan - mse: n - ETA: 2:21:16 - loss: nan - mse: n - ETA: 2:20:29 - loss: nan - mse: n - ETA: 2:19:40 - loss: nan - mse: n - ETA: 2:19:10 - loss: nan - mse: n - ETA: 2:18:20 - loss: nan - mse: n - ETA: 2:17:51 - loss: nan - mse: nan"
     ]
    },
    {
     "name": "stdout",
     "output_type": "stream",
     "text": [
      "455/700 [==================>...........] - ETA: 2:17:14 - loss: nan - mse: n - ETA: 2:16:42 - loss: nan - mse: n - ETA: 2:16:14 - loss: nan - mse: n - ETA: 2:15:34 - loss: nan - mse: n - ETA: 2:14:58 - loss: nan - mse: n - ETA: 2:14:15 - loss: nan - mse: n - ETA: 2:13:30 - loss: nan - mse: n - ETA: 2:13:00 - loss: nan - mse: n - ETA: 2:12:31 - loss: nan - mse: n - ETA: 2:12:01 - loss: nan - mse: n - ETA: 2:11:32 - loss: nan - mse: n - ETA: 2:11:04 - loss: nan - mse: n - ETA: 2:10:20 - loss: nan - mse: n - ETA: 2:09:54 - loss: nan - mse: n - ETA: 2:09:16 - loss: nan - mse: n - ETA: 2:08:45 - loss: nan - mse: n - ETA: 2:08:17 - loss: nan - mse: n - ETA: 2:07:48 - loss: nan - mse: n - ETA: 2:07:19 - loss: nan - mse: n - ETA: 2:06:51 - loss: nan - mse: n - ETA: 2:06:19 - loss: nan - mse: n - ETA: 2:05:38 - loss: nan - mse: n - ETA: 2:05:14 - loss: nan - mse: n - ETA: 2:04:49 - loss: nan - mse: n - ETA: 2:04:21 - loss: nan - mse: n - ETA: 2:03:54 - loss: nan - mse: n - ETA: 2:03:17 - loss: nan - mse: n - ETA: 2:02:51 - loss: nan - mse: n - ETA: 2:02:11 - loss: nan - mse: n - ETA: 2:01:49 - loss: nan - mse: n - ETA: 2:01:23 - loss: nan - mse: n - ETA: 2:00:58 - loss: nan - mse: n - ETA: 2:00:32 - loss: nan - mse: n - ETA: 2:00:02 - loss: nan - mse: n - ETA: 1:59:34 - loss: nan - mse: n - ETA: 1:58:59 - loss: nan - mse: n - ETA: 1:58:36 - loss: nan - mse: n - ETA: 1:58:13 - loss: nan - mse: n - ETA: 1:57:39 - loss: nan - mse: n - ETA: 1:57:00 - loss: nan - mse: n - ETA: 1:56:36 - loss: nan - mse: n - ETA: 1:56:03 - loss: nan - mse: n - ETA: 1:55:39 - loss: nan - mse: n - ETA: 1:55:03 - loss: nan - mse: n - ETA: 1:54:41 - loss: nan - mse: n - ETA: 1:54:05 - loss: nan - mse: n - ETA: 1:53:36 - loss: nan - mse: n - ETA: 1:53:12 - loss: nan - mse: n - ETA: 1:52:49 - loss: nan - mse: n - ETA: 1:52:26 - loss: nan - mse: n - ETA: 1:51:55 - loss: nan - mse: n - ETA: 1:51:32 - loss: nan - mse: n - ETA: 1:50:56 - loss: nan - mse: n - ETA: 1:50:27 - loss: nan - mse: n - ETA: 1:49:50 - loss: nan - mse: n - ETA: 1:49:36 - loss: nan - mse: n - ETA: 1:49:03 - loss: nan - mse: n - ETA: 1:48:37 - loss: nan - mse: n - ETA: 1:48:06 - loss: nan - mse: n - ETA: 1:47:41 - loss: nan - mse: n - ETA: 1:47:17 - loss: nan - mse: n - ETA: 1:46:58 - loss: nan - mse: n - ETA: 1:46:23 - loss: nan - mse: n - ETA: 1:45:56 - loss: nan - mse: n - ETA: 1:45:32 - loss: nan - mse: n - ETA: 1:45:07 - loss: nan - mse: n - ETA: 1:44:45 - loss: nan - mse: n - ETA: 1:44:14 - loss: nan - mse: n - ETA: 1:43:53 - loss: nan - mse: n - ETA: 1:43:29 - loss: nan - mse: n - ETA: 1:43:00 - loss: nan - mse: n - ETA: 1:42:28 - loss: nan - mse: n - ETA: 1:42:07 - loss: nan - mse: n - ETA: 1:41:48 - loss: nan - mse: n - ETA: 1:41:27 - loss: nan - mse: n - ETA: 1:40:58 - loss: nan - mse: n - ETA: 1:40:28 - loss: nan - mse: n - ETA: 1:40:10 - loss: nan - mse: n - ETA: 1:39:38 - loss: nan - mse: n - ETA: 1:39:07 - loss: nan - mse: n - ETA: 1:38:46 - loss: nan - mse: n - ETA: 1:38:27 - loss: nan - mse: n - ETA: 1:38:07 - loss: nan - mse: n - ETA: 1:37:39 - loss: nan - mse: n - ETA: 1:37:18 - loss: nan - mse: n - ETA: 1:36:54 - loss: nan - mse: n - ETA: 1:36:32 - loss: nan - mse: n - ETA: 1:36:14 - loss: nan - mse: n - ETA: 1:35:50 - loss: nan - mse: n - ETA: 1:35:29 - loss: nan - mse: n - ETA: 1:34:58 - loss: nan - mse: n - ETA: 1:34:36 - loss: nan - mse: n - ETA: 1:34:19 - loss: nan - mse: n - ETA: 1:33:51 - loss: nan - mse: n - ETA: 1:33:31 - loss: nan - mse: n - ETA: 1:33:12 - loss: nan - mse: n - ETA: 1:32:51 - loss: nan - mse: n - ETA: 1:32:34 - loss: nan - mse: n - ETA: 1:32:14 - loss: nan - mse: n - ETA: 1:31:55 - loss: nan - mse: n - ETA: 1:31:36 - loss: nan - mse: n - ETA: 1:31:19 - loss: nan - mse: n - ETA: 1:30:51 - loss: nan - mse: n - ETA: 1:30:32 - loss: nan - mse: n - ETA: 1:30:14 - loss: nan - mse: n - ETA: 1:29:45 - loss: nan - mse: n - ETA: 1:29:27 - loss: nan - mse: n - ETA: 1:29:07 - loss: nan - mse: n - ETA: 1:28:48 - loss: nan - mse: n - ETA: 1:28:22 - loss: nan - mse: n - ETA: 1:28:02 - loss: nan - mse: n - ETA: 1:27:35 - loss: nan - mse: n - ETA: 1:27:15 - loss: nan - mse: n - ETA: 1:26:57 - loss: nan - mse: n - ETA: 1:26:40 - loss: nan - mse: n - ETA: 1:26:22 - loss: nan - mse: n - ETA: 1:26:04 - loss: nan - mse: n - ETA: 1:25:40 - loss: nan - mse: n - ETA: 1:25:14 - loss: nan - mse: n - ETA: 1:24:50 - loss: nan - mse: n - ETA: 1:24:25 - loss: nan - mse: n - ETA: 1:24:09 - loss: nan - mse: n - ETA: 1:23:44 - loss: nan - mse: n - ETA: 1:23:18 - loss: nan - mse: n - ETA: 1:23:01 - loss: nan - mse: n - ETA: 1:22:37 - loss: nan - mse: n - ETA: 1:22:19 - loss: nan - mse: n - ETA: 1:21:59 - loss: nan - mse: n - ETA: 1:21:39 - loss: nan - mse: n - ETA: 1:21:15 - loss: nan - mse: n - ETA: 1:20:56 - loss: nan - mse: n - ETA: 1:20:38 - loss: nan - mse: n - ETA: 1:20:14 - loss: nan - mse: n - ETA: 1:19:57 - loss: nan - mse: n - ETA: 1:19:41 - loss: nan - mse: n - ETA: 1:19:25 - loss: nan - mse: n - ETA: 1:18:59 - loss: nan - mse: n - ETA: 1:18:42 - loss: nan - mse: n - ETA: 1:18:24 - loss: nan - mse: n - ETA: 1:18:07 - loss: nan - mse: n - ETA: 1:17:49 - loss: nan - mse: n - ETA: 1:17:32 - loss: nan - mse: n - ETA: 1:17:15 - loss: nan - mse: n - ETA: 1:16:57 - loss: nan - mse: n - ETA: 1:16:39 - loss: nan - mse: n - ETA: 1:16:23 - loss: nan - mse: n - ETA: 1:16:05 - loss: nan - mse: n - ETA: 1:15:49 - loss: nan - mse: n - ETA: 1:15:31 - loss: nan - mse: n - ETA: 1:15:15 - loss: nan - mse: n - ETA: 1:14:59 - loss: nan - mse: n - ETA: 1:14:48 - loss: nan - mse: n - ETA: 1:14:37 - loss: nan - mse: n - ETA: 1:14:22 - loss: nan - mse: n - ETA: 1:14:00 - loss: nan - mse: n - ETA: 1:13:44 - loss: nan - mse: n - ETA: 1:13:20 - loss: nan - mse: n - ETA: 1:13:01 - loss: nan - mse: n - ETA: 1:12:38 - loss: nan - mse: n - ETA: 1:12:21 - loss: nan - mse: n - ETA: 1:11:59 - loss: nan - mse: n - ETA: 1:11:36 - loss: nan - mse: n - ETA: 1:11:15 - loss: nan - mse: n - ETA: 1:11:00 - loss: nan - mse: n - ETA: 1:10:38 - loss: nan - mse: n - ETA: 1:10:20 - loss: nan - mse: n - ETA: 1:10:05 - loss: nan - mse: n - ETA: 1:09:45 - loss: nan - mse: n - ETA: 1:09:29 - loss: nan - mse: n - ETA: 1:09:15 - loss: nan - mse: n - ETA: 1:08:59 - loss: nan - mse: n - ETA: 1:08:45 - loss: nan - mse: n - ETA: 1:08:24 - loss: nan - mse: n - ETA: 1:08:08 - loss: nan - mse: n - ETA: 1:07:52 - loss: nan - mse: n - ETA: 1:07:33 - loss: nan - mse: n - ETA: 1:07:16 - loss: nan - mse: n - ETA: 1:07:02 - loss: nan - mse: n - ETA: 1:06:47 - loss: nan - mse: n - ETA: 1:06:26 - loss: nan - mse: n - ETA: 1:06:11 - loss: nan - mse: n - ETA: 1:05:49 - loss: nan - mse: n - ETA: 1:05:35 - loss: nan - mse: n - ETA: 1:05:20 - loss: nan - mse: n - ETA: 1:05:05 - loss: nan - mse: n - ETA: 1:04:48 - loss: nan - mse: n - ETA: 1:04:31 - loss: nan - mse: n - ETA: 1:04:14 - loss: nan - mse: n - ETA: 1:03:54 - loss: nan - mse: n - ETA: 1:03:37 - loss: nan - mse: n - ETA: 1:03:21 - loss: nan - mse: n - ETA: 1:03:02 - loss: nan - mse: n - ETA: 1:02:45 - loss: nan - mse: n - ETA: 1:02:25 - loss: nan - mse: n - ETA: 1:02:08 - loss: nan - mse: n - ETA: 1:01:51 - loss: nan - mse: n - ETA: 1:01:34 - loss: nan - mse: n - ETA: 1:01:19 - loss: nan - mse: n - ETA: 1:01:00 - loss: nan - mse: n - ETA: 1:00:42 - loss: nan - mse: n - ETA: 1:00:27 - loss: nan - mse: n - ETA: 1:00:09 - loss: nan - mse: n - ETA: 59:49 - loss: nan - mse: nan - ETA: 59:33 - loss: nan - mse: n - ETA: 59:17 - loss: nan - mse: n - ETA: 58:58 - loss: nan - mse: n - ETA: 58:38 - loss: nan - mse: n - ETA: 58:24 - loss: nan - mse: n - ETA: 58:10 - loss: nan - mse: n - ETA: 57:51 - loss: nan - mse: n - ETA: 57:37 - loss: nan - mse: n - ETA: 57:21 - loss: nan - mse: n - ETA: 57:06 - loss: nan - mse: n - ETA: 56:52 - loss: nan - mse: n - ETA: 56:38 - loss: nan - mse: n - ETA: 56:23 - loss: nan - mse: n - ETA: 56:09 - loss: nan - mse: n - ETA: 55:54 - loss: nan - mse: n - ETA: 55:37 - loss: nan - mse: n - ETA: 55:23 - loss: nan - mse: n - ETA: 55:08 - loss: nan - mse: n - ETA: 54:54 - loss: nan - mse: n - ETA: 54:40 - loss: nan - mse: n - ETA: 54:27 - loss: nan - mse: n - ETA: 54:13 - loss: nan - mse: n - ETA: 53:54 - loss: nan - mse: n - ETA: 53:39 - loss: nan - mse: n - ETA: 53:25 - loss: nan - mse: nan"
     ]
    },
    {
     "name": "stdout",
     "output_type": "stream",
     "text": [
      "695/700 [============================>.] - ETA: 53:07 - loss: nan - mse: n - ETA: 52:54 - loss: nan - mse: n - ETA: 52:35 - loss: nan - mse: n - ETA: 52:19 - loss: nan - mse: n - ETA: 52:06 - loss: nan - mse: n - ETA: 51:49 - loss: nan - mse: n - ETA: 51:33 - loss: nan - mse: n - ETA: 51:18 - loss: nan - mse: n - ETA: 51:02 - loss: nan - mse: n - ETA: 50:46 - loss: nan - mse: n - ETA: 50:32 - loss: nan - mse: n - ETA: 50:17 - loss: nan - mse: n - ETA: 50:03 - loss: nan - mse: n - ETA: 49:48 - loss: nan - mse: n - ETA: 49:34 - loss: nan - mse: n - ETA: 49:18 - loss: nan - mse: n - ETA: 49:05 - loss: nan - mse: n - ETA: 48:52 - loss: nan - mse: n - ETA: 48:38 - loss: nan - mse: n - ETA: 48:24 - loss: nan - mse: n - ETA: 48:10 - loss: nan - mse: n - ETA: 47:56 - loss: nan - mse: n - ETA: 47:42 - loss: nan - mse: n - ETA: 47:25 - loss: nan - mse: n - ETA: 47:07 - loss: nan - mse: n - ETA: 46:53 - loss: nan - mse: n - ETA: 46:40 - loss: nan - mse: n - ETA: 46:27 - loss: nan - mse: n - ETA: 46:09 - loss: nan - mse: n - ETA: 45:53 - loss: nan - mse: n - ETA: 45:40 - loss: nan - mse: n - ETA: 45:26 - loss: nan - mse: n - ETA: 45:13 - loss: nan - mse: n - ETA: 44:56 - loss: nan - mse: n - ETA: 44:43 - loss: nan - mse: n - ETA: 44:29 - loss: nan - mse: n - ETA: 44:17 - loss: nan - mse: n - ETA: 44:00 - loss: nan - mse: n - ETA: 43:46 - loss: nan - mse: n - ETA: 43:33 - loss: nan - mse: n - ETA: 43:20 - loss: nan - mse: n - ETA: 43:05 - loss: nan - mse: n - ETA: 42:52 - loss: nan - mse: n - ETA: 42:38 - loss: nan - mse: n - ETA: 42:22 - loss: nan - mse: n - ETA: 42:09 - loss: nan - mse: n - ETA: 41:53 - loss: nan - mse: n - ETA: 41:40 - loss: nan - mse: n - ETA: 41:26 - loss: nan - mse: n - ETA: 41:09 - loss: nan - mse: n - ETA: 40:55 - loss: nan - mse: n - ETA: 40:42 - loss: nan - mse: n - ETA: 40:28 - loss: nan - mse: n - ETA: 40:14 - loss: nan - mse: n - ETA: 39:59 - loss: nan - mse: n - ETA: 39:46 - loss: nan - mse: n - ETA: 39:29 - loss: nan - mse: n - ETA: 39:15 - loss: nan - mse: n - ETA: 39:02 - loss: nan - mse: n - ETA: 38:45 - loss: nan - mse: n - ETA: 38:33 - loss: nan - mse: n - ETA: 38:20 - loss: nan - mse: n - ETA: 38:07 - loss: nan - mse: n - ETA: 37:51 - loss: nan - mse: n - ETA: 37:35 - loss: nan - mse: n - ETA: 37:22 - loss: nan - mse: n - ETA: 37:08 - loss: nan - mse: n - ETA: 36:55 - loss: nan - mse: n - ETA: 36:41 - loss: nan - mse: n - ETA: 36:29 - loss: nan - mse: n - ETA: 36:14 - loss: nan - mse: n - ETA: 36:00 - loss: nan - mse: n - ETA: 35:45 - loss: nan - mse: n - ETA: 35:31 - loss: nan - mse: n - ETA: 35:20 - loss: nan - mse: n - ETA: 35:08 - loss: nan - mse: n - ETA: 34:55 - loss: nan - mse: n - ETA: 34:42 - loss: nan - mse: n - ETA: 34:30 - loss: nan - mse: n - ETA: 34:16 - loss: nan - mse: n - ETA: 34:03 - loss: nan - mse: n - ETA: 33:50 - loss: nan - mse: n - ETA: 33:36 - loss: nan - mse: n - ETA: 33:24 - loss: nan - mse: n - ETA: 33:08 - loss: nan - mse: n - ETA: 32:56 - loss: nan - mse: n - ETA: 32:43 - loss: nan - mse: n - ETA: 32:30 - loss: nan - mse: n - ETA: 32:18 - loss: nan - mse: n - ETA: 32:04 - loss: nan - mse: n - ETA: 31:50 - loss: nan - mse: n - ETA: 31:37 - loss: nan - mse: n - ETA: 31:23 - loss: nan - mse: n - ETA: 31:10 - loss: nan - mse: n - ETA: 30:56 - loss: nan - mse: n - ETA: 30:42 - loss: nan - mse: n - ETA: 30:29 - loss: nan - mse: n - ETA: 30:15 - loss: nan - mse: n - ETA: 30:00 - loss: nan - mse: n - ETA: 29:48 - loss: nan - mse: n - ETA: 29:35 - loss: nan - mse: n - ETA: 29:21 - loss: nan - mse: n - ETA: 29:07 - loss: nan - mse: n - ETA: 28:53 - loss: nan - mse: n - ETA: 28:41 - loss: nan - mse: n - ETA: 28:26 - loss: nan - mse: n - ETA: 28:13 - loss: nan - mse: n - ETA: 28:01 - loss: nan - mse: n - ETA: 27:49 - loss: nan - mse: n - ETA: 27:36 - loss: nan - mse: n - ETA: 27:24 - loss: nan - mse: n - ETA: 27:10 - loss: nan - mse: n - ETA: 26:55 - loss: nan - mse: n - ETA: 26:43 - loss: nan - mse: n - ETA: 26:30 - loss: nan - mse: n - ETA: 26:17 - loss: nan - mse: n - ETA: 26:03 - loss: nan - mse: n - ETA: 25:49 - loss: nan - mse: n - ETA: 25:37 - loss: nan - mse: n - ETA: 25:25 - loss: nan - mse: n - ETA: 25:13 - loss: nan - mse: n - ETA: 25:00 - loss: nan - mse: n - ETA: 24:46 - loss: nan - mse: n - ETA: 24:32 - loss: nan - mse: n - ETA: 24:18 - loss: nan - mse: n - ETA: 24:05 - loss: nan - mse: n - ETA: 23:52 - loss: nan - mse: n - ETA: 23:40 - loss: nan - mse: n - ETA: 23:28 - loss: nan - mse: n - ETA: 23:14 - loss: nan - mse: n - ETA: 23:01 - loss: nan - mse: n - ETA: 22:48 - loss: nan - mse: n - ETA: 22:35 - loss: nan - mse: n - ETA: 22:23 - loss: nan - mse: n - ETA: 22:09 - loss: nan - mse: n - ETA: 21:57 - loss: nan - mse: n - ETA: 21:44 - loss: nan - mse: n - ETA: 21:31 - loss: nan - mse: n - ETA: 21:19 - loss: nan - mse: n - ETA: 21:07 - loss: nan - mse: n - ETA: 20:55 - loss: nan - mse: n - ETA: 20:41 - loss: nan - mse: n - ETA: 20:28 - loss: nan - mse: n - ETA: 20:16 - loss: nan - mse: n - ETA: 20:04 - loss: nan - mse: n - ETA: 19:51 - loss: nan - mse: n - ETA: 19:39 - loss: nan - mse: n - ETA: 19:27 - loss: nan - mse: n - ETA: 19:14 - loss: nan - mse: n - ETA: 19:02 - loss: nan - mse: n - ETA: 18:49 - loss: nan - mse: n - ETA: 18:36 - loss: nan - mse: n - ETA: 18:24 - loss: nan - mse: n - ETA: 18:11 - loss: nan - mse: n - ETA: 17:59 - loss: nan - mse: n - ETA: 17:47 - loss: nan - mse: n - ETA: 17:35 - loss: nan - mse: n - ETA: 17:23 - loss: nan - mse: n - ETA: 17:11 - loss: nan - mse: n - ETA: 16:58 - loss: nan - mse: n - ETA: 16:46 - loss: nan - mse: n - ETA: 16:34 - loss: nan - mse: n - ETA: 16:22 - loss: nan - mse: n - ETA: 16:10 - loss: nan - mse: n - ETA: 15:58 - loss: nan - mse: n - ETA: 15:46 - loss: nan - mse: n - ETA: 15:34 - loss: nan - mse: n - ETA: 15:22 - loss: nan - mse: n - ETA: 15:10 - loss: nan - mse: n - ETA: 14:58 - loss: nan - mse: n - ETA: 14:46 - loss: nan - mse: n - ETA: 14:34 - loss: nan - mse: n - ETA: 14:22 - loss: nan - mse: n - ETA: 14:10 - loss: nan - mse: n - ETA: 13:57 - loss: nan - mse: n - ETA: 13:45 - loss: nan - mse: n - ETA: 13:32 - loss: nan - mse: n - ETA: 13:19 - loss: nan - mse: n - ETA: 13:07 - loss: nan - mse: n - ETA: 12:55 - loss: nan - mse: n - ETA: 12:42 - loss: nan - mse: n - ETA: 12:29 - loss: nan - mse: n - ETA: 12:18 - loss: nan - mse: n - ETA: 12:06 - loss: nan - mse: n - ETA: 11:54 - loss: nan - mse: n - ETA: 11:41 - loss: nan - mse: n - ETA: 11:29 - loss: nan - mse: n - ETA: 11:17 - loss: nan - mse: n - ETA: 11:05 - loss: nan - mse: n - ETA: 10:53 - loss: nan - mse: n - ETA: 10:40 - loss: nan - mse: n - ETA: 10:28 - loss: nan - mse: n - ETA: 10:16 - loss: nan - mse: n - ETA: 10:04 - loss: nan - mse: n - ETA: 9:52 - loss: nan - mse: nan - ETA: 9:40 - loss: nan - mse: na - ETA: 9:28 - loss: nan - mse: na - ETA: 9:15 - loss: nan - mse: na - ETA: 9:03 - loss: nan - mse: na - ETA: 8:52 - loss: nan - mse: na - ETA: 8:40 - loss: nan - mse: na - ETA: 8:28 - loss: nan - mse: na - ETA: 8:16 - loss: nan - mse: na - ETA: 8:04 - loss: nan - mse: na - ETA: 7:52 - loss: nan - mse: na - ETA: 7:40 - loss: nan - mse: na - ETA: 7:28 - loss: nan - mse: na - ETA: 7:16 - loss: nan - mse: na - ETA: 7:04 - loss: nan - mse: na - ETA: 6:52 - loss: nan - mse: na - ETA: 6:40 - loss: nan - mse: na - ETA: 6:28 - loss: nan - mse: na - ETA: 6:16 - loss: nan - mse: na - ETA: 6:04 - loss: nan - mse: na - ETA: 5:52 - loss: nan - mse: na - ETA: 5:40 - loss: nan - mse: na - ETA: 5:29 - loss: nan - mse: na - ETA: 5:17 - loss: nan - mse: na - ETA: 5:05 - loss: nan - mse: na - ETA: 4:53 - loss: nan - mse: na - ETA: 4:41 - loss: nan - mse: na - ETA: 4:29 - loss: nan - mse: na - ETA: 4:17 - loss: nan - mse: na - ETA: 4:06 - loss: nan - mse: na - ETA: 3:54 - loss: nan - mse: na - ETA: 3:42 - loss: nan - mse: na - ETA: 3:30 - loss: nan - mse: na - ETA: 3:18 - loss: nan - mse: na - ETA: 3:07 - loss: nan - mse: na - ETA: 2:55 - loss: nan - mse: na - ETA: 2:43 - loss: nan - mse: na - ETA: 2:32 - loss: nan - mse: na - ETA: 2:20 - loss: nan - mse: na - ETA: 2:08 - loss: nan - mse: na - ETA: 1:56 - loss: nan - mse: na - ETA: 1:45 - loss: nan - mse: na - ETA: 1:33 - loss: nan - mse: na - ETA: 1:21 - loss: nan - mse: na - ETA: 1:10 - loss: nan - mse: na - ETA: 58s - loss: nan - mse: nan "
     ]
    },
    {
     "name": "stdout",
     "output_type": "stream",
     "text": [
      "700/700 [==============================] - ETA: 46s - loss: nan - mse: n - ETA: 35s - loss: nan - mse: n - ETA: 23s - loss: nan - mse: n - ETA: 11s - loss: nan - mse: n - ETA: 0s - loss: nan - mse: nan - 8171s 12s/step - loss: nan - mse: nan\n"
     ]
    },
    {
     "data": {
      "text/plain": [
       "<tensorflow.python.keras.callbacks.History at 0x29001a35dc8>"
      ]
     },
     "execution_count": 19,
     "metadata": {},
     "output_type": "execute_result"
    }
   ],
   "source": [
    "model.fit_generator(train_gen,epochs=2,steps_per_epoch= 700 , verbose=1)"
   ]
  },
  {
   "cell_type": "code",
   "execution_count": 20,
   "metadata": {},
   "outputs": [],
   "source": [
    "  save_mod(model,\"model_A_weights2.h5\",\"Model.json\")"
   ]
  },
  {
   "cell_type": "code",
   "execution_count": null,
   "metadata": {},
   "outputs": [],
   "source": []
  }
 ],
 "metadata": {
  "kernelspec": {
   "display_name": "Python 3",
   "language": "python",
   "name": "python3"
  },
  "language_info": {
   "codemirror_mode": {
    "name": "ipython",
    "version": 3
   },
   "file_extension": ".py",
   "mimetype": "text/x-python",
   "name": "python",
   "nbconvert_exporter": "python",
   "pygments_lexer": "ipython3",
   "version": "3.7.4"
  }
 },
 "nbformat": 4,
 "nbformat_minor": 2
}
